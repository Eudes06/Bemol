{
 "cells": [
  {
   "cell_type": "markdown",
   "metadata": {},
   "source": [
    "#### Dados\n",
    "Vamos utilizar como fonte de dados, dois dataset dristribuído diretamente para entender o comportamento \n",
    "de compra de vale crédito dos clientes da Bemol. "
   ]
  },
  {
   "cell_type": "code",
   "execution_count": 4,
   "metadata": {},
   "outputs": [],
   "source": [
    "import numpy as np\n",
    "import matplotlib.pyplot as plt\n",
    "import pandas as pd\n",
    "import datetime"
   ]
  },
  {
   "cell_type": "markdown",
   "metadata": {},
   "source": [
    "### Dados Vale Credito Tabela 1\n",
    "Primeiramente será observado os dados vale credito tabela 1. Importar os dados para analise.\n",
    "\n",
    "Os dados tem como colunas:\n",
    "CLIENTES = Id de cada cliente;\n",
    "IDNIVEL = Posição do cliente com relação seu nivel;\n",
    "DESCRICAO_NIVEL = Relaciona com a posição do IDNIVEL;\n",
    "SALDO_VC = O Saldo cliente na loja.\n",
    "DT_MUDANCA_PEDRA = ..."
   ]
  },
  {
   "cell_type": "code",
   "execution_count": 5,
   "metadata": {},
   "outputs": [
    {
     "data": {
      "text/html": [
       "<div>\n",
       "<style scoped>\n",
       "    .dataframe tbody tr th:only-of-type {\n",
       "        vertical-align: middle;\n",
       "    }\n",
       "\n",
       "    .dataframe tbody tr th {\n",
       "        vertical-align: top;\n",
       "    }\n",
       "\n",
       "    .dataframe thead th {\n",
       "        text-align: right;\n",
       "    }\n",
       "</style>\n",
       "<table border=\"1\" class=\"dataframe\">\n",
       "  <thead>\n",
       "    <tr style=\"text-align: right;\">\n",
       "      <th></th>\n",
       "      <th>CLIENTE</th>\n",
       "      <th>IDNIVEL</th>\n",
       "      <th>DESCRICAO_NIVEL</th>\n",
       "      <th>SALDO_VC</th>\n",
       "      <th>DT_MUDANCA_PEDRA</th>\n",
       "    </tr>\n",
       "  </thead>\n",
       "  <tbody>\n",
       "    <tr>\n",
       "      <th>0</th>\n",
       "      <td>16923</td>\n",
       "      <td>5</td>\n",
       "      <td>DIAMANTE+</td>\n",
       "      <td>0.68</td>\n",
       "      <td>2020-06-08</td>\n",
       "    </tr>\n",
       "    <tr>\n",
       "      <th>1</th>\n",
       "      <td>17873</td>\n",
       "      <td>5</td>\n",
       "      <td>DIAMANTE+</td>\n",
       "      <td>428.98</td>\n",
       "      <td>2020-06-05</td>\n",
       "    </tr>\n",
       "    <tr>\n",
       "      <th>2</th>\n",
       "      <td>17974</td>\n",
       "      <td>5</td>\n",
       "      <td>DIAMANTE+</td>\n",
       "      <td>666.77</td>\n",
       "      <td>2020-06-19</td>\n",
       "    </tr>\n",
       "    <tr>\n",
       "      <th>3</th>\n",
       "      <td>168775</td>\n",
       "      <td>5</td>\n",
       "      <td>DIAMANTE+</td>\n",
       "      <td>0.00</td>\n",
       "      <td>2020-06-27</td>\n",
       "    </tr>\n",
       "    <tr>\n",
       "      <th>4</th>\n",
       "      <td>168962</td>\n",
       "      <td>2</td>\n",
       "      <td>PRATA</td>\n",
       "      <td>0.23</td>\n",
       "      <td>2020-06-02</td>\n",
       "    </tr>\n",
       "    <tr>\n",
       "      <th>...</th>\n",
       "      <td>...</td>\n",
       "      <td>...</td>\n",
       "      <td>...</td>\n",
       "      <td>...</td>\n",
       "      <td>...</td>\n",
       "    </tr>\n",
       "    <tr>\n",
       "      <th>995</th>\n",
       "      <td>219919</td>\n",
       "      <td>5</td>\n",
       "      <td>DIAMANTE+</td>\n",
       "      <td>0.62</td>\n",
       "      <td>2020-06-24</td>\n",
       "    </tr>\n",
       "    <tr>\n",
       "      <th>996</th>\n",
       "      <td>1795133</td>\n",
       "      <td>5</td>\n",
       "      <td>DIAMANTE+</td>\n",
       "      <td>2.60</td>\n",
       "      <td>2020-06-14</td>\n",
       "    </tr>\n",
       "    <tr>\n",
       "      <th>997</th>\n",
       "      <td>1670911</td>\n",
       "      <td>4</td>\n",
       "      <td>DIAMANTE</td>\n",
       "      <td>26.02</td>\n",
       "      <td>2020-06-16</td>\n",
       "    </tr>\n",
       "    <tr>\n",
       "      <th>998</th>\n",
       "      <td>67751</td>\n",
       "      <td>5</td>\n",
       "      <td>DIAMANTE+</td>\n",
       "      <td>0.05</td>\n",
       "      <td>2020-05-21</td>\n",
       "    </tr>\n",
       "    <tr>\n",
       "      <th>999</th>\n",
       "      <td>211785</td>\n",
       "      <td>3</td>\n",
       "      <td>OURO</td>\n",
       "      <td>0.16</td>\n",
       "      <td>2020-06-21</td>\n",
       "    </tr>\n",
       "  </tbody>\n",
       "</table>\n",
       "<p>1000 rows × 5 columns</p>\n",
       "</div>"
      ],
      "text/plain": [
       "     CLIENTE  IDNIVEL DESCRICAO_NIVEL  SALDO_VC DT_MUDANCA_PEDRA\n",
       "0      16923        5       DIAMANTE+      0.68       2020-06-08\n",
       "1      17873        5       DIAMANTE+    428.98       2020-06-05\n",
       "2      17974        5       DIAMANTE+    666.77       2020-06-19\n",
       "3     168775        5       DIAMANTE+      0.00       2020-06-27\n",
       "4     168962        2           PRATA      0.23       2020-06-02\n",
       "..       ...      ...             ...       ...              ...\n",
       "995   219919        5       DIAMANTE+      0.62       2020-06-24\n",
       "996  1795133        5       DIAMANTE+      2.60       2020-06-14\n",
       "997  1670911        4        DIAMANTE     26.02       2020-06-16\n",
       "998    67751        5       DIAMANTE+      0.05       2020-05-21\n",
       "999   211785        3            OURO      0.16       2020-06-21\n",
       "\n",
       "[1000 rows x 5 columns]"
      ]
     },
     "execution_count": 5,
     "metadata": {},
     "output_type": "execute_result"
    }
   ],
   "source": [
    "credito1 = pd.read_csv('Dados_vale_credito_tabela1.csv')\n",
    "credito1"
   ]
  },
  {
   "cell_type": "markdown",
   "metadata": {},
   "source": [
    "Aqui é feito o cálculo da propoção de cada descrição de nível. Nota-se que 44,8% dos clientes são do nível Diamante+, pode ser inferido que aproximadamente metade dos sempre volta para comprar e tornando-se fiel. "
   ]
  },
  {
   "cell_type": "code",
   "execution_count": 6,
   "metadata": {},
   "outputs": [
    {
     "data": {
      "text/plain": [
       "DIAMANTE+    44.8\n",
       "DIAMANTE     29.7\n",
       "OURO         16.6\n",
       "PRATA         7.8\n",
       "AZUL          1.1\n",
       "Name: DESCRICAO_NIVEL, dtype: float64"
      ]
     },
     "execution_count": 6,
     "metadata": {},
     "output_type": "execute_result"
    }
   ],
   "source": [
    "prop_desc = credito1[\"DESCRICAO_NIVEL\" ].value_counts()\n",
    "(prop_desc/len(credito1))*100 #Calculo da proporção"
   ]
  },
  {
   "cell_type": "markdown",
   "metadata": {},
   "source": [
    "O primeiro banco de dados descreve o nivel de cliente e seu saldo. Sendo assim, é feito a soma do saldo para cada descrição de nivel."
   ]
  },
  {
   "cell_type": "code",
   "execution_count": 7,
   "metadata": {},
   "outputs": [
    {
     "data": {
      "text/plain": [
       "Text(0, 0.5, 'Saldo')"
      ]
     },
     "execution_count": 7,
     "metadata": {},
     "output_type": "execute_result"
    },
    {
     "data": {
      "image/png": "[encoded data removed]",
      "text/plain": [
       "<Figure size 432x288 with 1 Axes>"
      ]
     },
     "metadata": {
      "needs_background": "light"
     },
     "output_type": "display_data"
    }
   ],
   "source": [
    "nivel1 = credito1.groupby(['DESCRICAO_NIVEL'])['SALDO_VC'].sum()\n",
    "nivel1\n",
    "nivel1.plot.bar()\n",
    "\n",
    "plt.title('Soma dos Saldos dos Clientes')  #Titulo grafico\n",
    "plt.xticks(rotation=0) #rodar o eixo x\n",
    "plt.xlabel(\"Níveis dos Clientes\") # Atribuir nome eixo x\n",
    "plt.ylabel(\"Saldo\") #Atribuir nome eixo y"
   ]
  },
  {
   "cell_type": "markdown",
   "metadata": {},
   "source": [
    "Como grande parte dos clientes são Diamante+, conclui-se que o seus saldos serão bem maiores que os outros níveis."
   ]
  },
  {
   "cell_type": "markdown",
   "metadata": {},
   "source": [
    "### Dados Vale Credito Tabela 2\n",
    "A segunda análise será com os dados vale credito tabela 2. Importar os dados para analise."
   ]
  },
  {
   "cell_type": "code",
   "execution_count": 8,
   "metadata": {},
   "outputs": [
    {
     "data": {
      "text/html": [
       "<div>\n",
       "<style scoped>\n",
       "    .dataframe tbody tr th:only-of-type {\n",
       "        vertical-align: middle;\n",
       "    }\n",
       "\n",
       "    .dataframe tbody tr th {\n",
       "        vertical-align: top;\n",
       "    }\n",
       "\n",
       "    .dataframe thead th {\n",
       "        text-align: right;\n",
       "    }\n",
       "</style>\n",
       "<table border=\"1\" class=\"dataframe\">\n",
       "  <thead>\n",
       "    <tr style=\"text-align: right;\">\n",
       "      <th></th>\n",
       "      <th>CLIENTE</th>\n",
       "      <th>DEBITO_OU_CREDITO</th>\n",
       "      <th>TIPO_TRANSACAO_VC</th>\n",
       "      <th>ID_LISTA_PRESENTES</th>\n",
       "      <th>PEDIDO_BOL</th>\n",
       "      <th>VALOR_MOVIMENTADO</th>\n",
       "      <th>SALDO</th>\n",
       "      <th>MOEDA</th>\n",
       "      <th>DATA_DA_MOVIMENTACAO</th>\n",
       "      <th>FATURA</th>\n",
       "      <th>DATA_CRIACAO</th>\n",
       "      <th>LOJA</th>\n",
       "    </tr>\n",
       "  </thead>\n",
       "  <tbody>\n",
       "    <tr>\n",
       "      <th>0</th>\n",
       "      <td>3059785</td>\n",
       "      <td>CREDITO</td>\n",
       "      <td>CREDITO_POR_TROCO</td>\n",
       "      <td>0</td>\n",
       "      <td>0</td>\n",
       "      <td>0.37</td>\n",
       "      <td>0.37</td>\n",
       "      <td>BRL</td>\n",
       "      <td>2019-11-03</td>\n",
       "      <td>157999405.0</td>\n",
       "      <td>2019-11-03</td>\n",
       "      <td>118.0</td>\n",
       "    </tr>\n",
       "    <tr>\n",
       "      <th>1</th>\n",
       "      <td>197026</td>\n",
       "      <td>CREDITO</td>\n",
       "      <td>CREDITO_POR_TROCO</td>\n",
       "      <td>0</td>\n",
       "      <td>0</td>\n",
       "      <td>0.39</td>\n",
       "      <td>3.20</td>\n",
       "      <td>BRL</td>\n",
       "      <td>2017-11-20</td>\n",
       "      <td>144328614.0</td>\n",
       "      <td>2017-11-20</td>\n",
       "      <td>500.0</td>\n",
       "    </tr>\n",
       "    <tr>\n",
       "      <th>2</th>\n",
       "      <td>2435219</td>\n",
       "      <td>CREDITO</td>\n",
       "      <td>CREDITO_POR_TROCO</td>\n",
       "      <td>0</td>\n",
       "      <td>0</td>\n",
       "      <td>1.15</td>\n",
       "      <td>1.15</td>\n",
       "      <td>BRL</td>\n",
       "      <td>2020-08-05</td>\n",
       "      <td>163994206.0</td>\n",
       "      <td>2020-08-05</td>\n",
       "      <td>106.0</td>\n",
       "    </tr>\n",
       "    <tr>\n",
       "      <th>3</th>\n",
       "      <td>1736644</td>\n",
       "      <td>CREDITO</td>\n",
       "      <td>CREDITO_POR_TROCO</td>\n",
       "      <td>0</td>\n",
       "      <td>0</td>\n",
       "      <td>0.15</td>\n",
       "      <td>2.66</td>\n",
       "      <td>BRL</td>\n",
       "      <td>2017-08-20</td>\n",
       "      <td>142898316.0</td>\n",
       "      <td>2017-08-20</td>\n",
       "      <td>118.0</td>\n",
       "    </tr>\n",
       "    <tr>\n",
       "      <th>4</th>\n",
       "      <td>2010537</td>\n",
       "      <td>DEBITO</td>\n",
       "      <td>DEBITO_PAGAMENTO_COM_VC</td>\n",
       "      <td>0</td>\n",
       "      <td>0</td>\n",
       "      <td>-0.50</td>\n",
       "      <td>0.00</td>\n",
       "      <td>BRL</td>\n",
       "      <td>2017-08-08</td>\n",
       "      <td>NaN</td>\n",
       "      <td>2017-08-08</td>\n",
       "      <td>401.0</td>\n",
       "    </tr>\n",
       "    <tr>\n",
       "      <th>...</th>\n",
       "      <td>...</td>\n",
       "      <td>...</td>\n",
       "      <td>...</td>\n",
       "      <td>...</td>\n",
       "      <td>...</td>\n",
       "      <td>...</td>\n",
       "      <td>...</td>\n",
       "      <td>...</td>\n",
       "      <td>...</td>\n",
       "      <td>...</td>\n",
       "      <td>...</td>\n",
       "      <td>...</td>\n",
       "    </tr>\n",
       "    <tr>\n",
       "      <th>380319</th>\n",
       "      <td>1046303</td>\n",
       "      <td>CREDITO</td>\n",
       "      <td>CREDITO_POR_TROCO</td>\n",
       "      <td>0</td>\n",
       "      <td>0</td>\n",
       "      <td>0.90</td>\n",
       "      <td>0.90</td>\n",
       "      <td>BRL</td>\n",
       "      <td>2018-02-15</td>\n",
       "      <td>145954646.0</td>\n",
       "      <td>2018-02-15</td>\n",
       "      <td>202.0</td>\n",
       "    </tr>\n",
       "    <tr>\n",
       "      <th>380320</th>\n",
       "      <td>155516</td>\n",
       "      <td>DEBITO</td>\n",
       "      <td>DEBITO_PAGAMENTO_COM_VC</td>\n",
       "      <td>0</td>\n",
       "      <td>0</td>\n",
       "      <td>-0.20</td>\n",
       "      <td>0.75</td>\n",
       "      <td>BRL</td>\n",
       "      <td>2018-12-06</td>\n",
       "      <td>NaN</td>\n",
       "      <td>2018-12-06</td>\n",
       "      <td>101.0</td>\n",
       "    </tr>\n",
       "    <tr>\n",
       "      <th>380321</th>\n",
       "      <td>2087858</td>\n",
       "      <td>CREDITO</td>\n",
       "      <td>CREDITO_POR_TROCO</td>\n",
       "      <td>0</td>\n",
       "      <td>0</td>\n",
       "      <td>0.23</td>\n",
       "      <td>0.47</td>\n",
       "      <td>BRL</td>\n",
       "      <td>2018-11-27</td>\n",
       "      <td>151060807.0</td>\n",
       "      <td>2018-11-27</td>\n",
       "      <td>106.0</td>\n",
       "    </tr>\n",
       "    <tr>\n",
       "      <th>380322</th>\n",
       "      <td>2133650</td>\n",
       "      <td>CREDITO</td>\n",
       "      <td>CREDITO_GERADO_POR_COMPRA_DE_VC</td>\n",
       "      <td>0</td>\n",
       "      <td>0</td>\n",
       "      <td>85.00</td>\n",
       "      <td>88.35</td>\n",
       "      <td>BRL</td>\n",
       "      <td>2020-10-03</td>\n",
       "      <td>165519100.0</td>\n",
       "      <td>2020-10-03</td>\n",
       "      <td>520.0</td>\n",
       "    </tr>\n",
       "    <tr>\n",
       "      <th>380323</th>\n",
       "      <td>1452993</td>\n",
       "      <td>CREDITO</td>\n",
       "      <td>CREDITO_POR_TROCO</td>\n",
       "      <td>0</td>\n",
       "      <td>0</td>\n",
       "      <td>0.89</td>\n",
       "      <td>3.95</td>\n",
       "      <td>BRL</td>\n",
       "      <td>2018-10-17</td>\n",
       "      <td>150259102.0</td>\n",
       "      <td>2018-10-17</td>\n",
       "      <td>201.0</td>\n",
       "    </tr>\n",
       "  </tbody>\n",
       "</table>\n",
       "<p>380324 rows × 12 columns</p>\n",
       "</div>"
      ],
      "text/plain": [
       "        CLIENTE DEBITO_OU_CREDITO                TIPO_TRANSACAO_VC  \\\n",
       "0       3059785           CREDITO                CREDITO_POR_TROCO   \n",
       "1        197026           CREDITO                CREDITO_POR_TROCO   \n",
       "2       2435219           CREDITO                CREDITO_POR_TROCO   \n",
       "3       1736644           CREDITO                CREDITO_POR_TROCO   \n",
       "4       2010537            DEBITO          DEBITO_PAGAMENTO_COM_VC   \n",
       "...         ...               ...                              ...   \n",
       "380319  1046303           CREDITO                CREDITO_POR_TROCO   \n",
       "380320   155516            DEBITO          DEBITO_PAGAMENTO_COM_VC   \n",
       "380321  2087858           CREDITO                CREDITO_POR_TROCO   \n",
       "380322  2133650           CREDITO  CREDITO_GERADO_POR_COMPRA_DE_VC   \n",
       "380323  1452993           CREDITO                CREDITO_POR_TROCO   \n",
       "\n",
       "        ID_LISTA_PRESENTES  PEDIDO_BOL  VALOR_MOVIMENTADO  SALDO MOEDA  \\\n",
       "0                        0           0               0.37   0.37   BRL   \n",
       "1                        0           0               0.39   3.20   BRL   \n",
       "2                        0           0               1.15   1.15   BRL   \n",
       "3                        0           0               0.15   2.66   BRL   \n",
       "4                        0           0              -0.50   0.00   BRL   \n",
       "...                    ...         ...                ...    ...   ...   \n",
       "380319                   0           0               0.90   0.90   BRL   \n",
       "380320                   0           0              -0.20   0.75   BRL   \n",
       "380321                   0           0               0.23   0.47   BRL   \n",
       "380322                   0           0              85.00  88.35   BRL   \n",
       "380323                   0           0               0.89   3.95   BRL   \n",
       "\n",
       "       DATA_DA_MOVIMENTACAO       FATURA DATA_CRIACAO   LOJA  \n",
       "0                2019-11-03  157999405.0   2019-11-03  118.0  \n",
       "1                2017-11-20  144328614.0   2017-11-20  500.0  \n",
       "2                2020-08-05  163994206.0   2020-08-05  106.0  \n",
       "3                2017-08-20  142898316.0   2017-08-20  118.0  \n",
       "4                2017-08-08          NaN   2017-08-08  401.0  \n",
       "...                     ...          ...          ...    ...  \n",
       "380319           2018-02-15  145954646.0   2018-02-15  202.0  \n",
       "380320           2018-12-06          NaN   2018-12-06  101.0  \n",
       "380321           2018-11-27  151060807.0   2018-11-27  106.0  \n",
       "380322           2020-10-03  165519100.0   2020-10-03  520.0  \n",
       "380323           2018-10-17  150259102.0   2018-10-17  201.0  \n",
       "\n",
       "[380324 rows x 12 columns]"
      ]
     },
     "execution_count": 8,
     "metadata": {},
     "output_type": "execute_result"
    }
   ],
   "source": [
    "credito2 = pd.read_csv('Dados_vale_credito_tabela2.csv')\n",
    "credito2"
   ]
  },
  {
   "cell_type": "markdown",
   "metadata": {},
   "source": [
    "Observando os resultados abaixo temos que a proporção de pagamento por CREDITO com o tipo de CREDITO_POR_TROCO é 61,75%, é o que mais ocorre durante as compras nas lojas da Bemol. Com a opção de pagamento DEBITO com o tipo de transação DEBITO_PAGAMENTO_COM_VC é um meio menos usado, com proporção de 14,93%."
   ]
  },
  {
   "cell_type": "code",
   "execution_count": 9,
   "metadata": {},
   "outputs": [
    {
     "data": {
      "text/plain": [
       "DEBITO_OU_CREDITO  TIPO_TRANSACAO_VC                          \n",
       "CREDITO            CREDITO_POR_TROCO                              61.756555\n",
       "                   CREDITO_GERADO_POR_COMPRA_DE_VC                 6.325133\n",
       "                   CREDITO_POR_COMPRA_LISTA_PRESENTES              1.788738\n",
       "                   DEBITO_DEVOLUCAO_COMPRA_FEITA_COM_VC            0.263985\n",
       "                   CREDITO_PREMIACAO_FUNCIONARIO                   0.183265\n",
       "                   CREDITO_PREMIACAO_GERENCIAL_CLIENTES            0.161704\n",
       "                   AJUSTE_CONTABIL_OU_LANCAM_INCORRETO             0.096760\n",
       "                   CREDITO_GERADO_DEVOLUCAO_COMPRAS                0.041018\n",
       "                   CREDITO_CONVERSAO_CRED_GERADO_DEVOLUCAO         0.013673\n",
       "                   TRANSFERENCIA_ENTRE_CLIENTES_BEMOL              0.009466\n",
       "                   AJUSTE_LANCAMENTO_INCORRETO                     0.003944\n",
       "                   TRANSFERENCIA_ENTRE_CLIENTES_BEMOL_WHATSAPP     0.003681\n",
       "                   DEBITO_DEVOLUCAO_COMPRA_DE_VC                   0.001578\n",
       "                   DEBITO_ESTORNO_TROCO                            0.000263\n",
       "DEBITO             DEBITO_PAGAMENTO_COM_VC                        14.934635\n",
       "                   DEBITO_COMPRA_COM_VC                            8.569273\n",
       "                   DEBITO_AUTOMATICO_PAG_PRESTACOES                5.815831\n",
       "                   TRANSFERENCIA_ENTRE_CLIENTES_BEMOL              0.011306\n",
       "                   DEBITO_DEVOLUCAO_COMPRA_DE_VC                   0.004996\n",
       "                   TRANSFERENCIA_ENTRE_CLIENTES_BEMOL_WHATSAPP     0.004996\n",
       "                   DEBITO_ESTORNO_LISTA_PRESENTES                  0.004207\n",
       "                   DEBITO_POR_ESTORNO_TROCO                        0.004207\n",
       "                   AJUSTE_CONTABIL_OU_LANCAM_INCORRETO             0.000263\n",
       "                   DEBITO_DUPLICIDADE_LANCAMENTO                   0.000263\n",
       "                   DOACAO                                          0.000263\n",
       "Name: TIPO_TRANSACAO_VC, dtype: float64"
      ]
     },
     "execution_count": 9,
     "metadata": {},
     "output_type": "execute_result"
    }
   ],
   "source": [
    "pag = credito2.groupby(['DEBITO_OU_CREDITO'])['TIPO_TRANSACAO_VC'].value_counts()\n",
    "media_pag=pag/len(credito2)*100\n",
    "media_pag"
   ]
  },
  {
   "cell_type": "code",
   "execution_count": 10,
   "metadata": {},
   "outputs": [
    {
     "data": {
      "text/plain": [
       "CREDITO_POR_TROCO                              61.756555\n",
       "DEBITO_PAGAMENTO_COM_VC                        14.934635\n",
       "DEBITO_COMPRA_COM_VC                            8.569273\n",
       "CREDITO_GERADO_POR_COMPRA_DE_VC                 6.325133\n",
       "DEBITO_AUTOMATICO_PAG_PRESTACOES                5.815831\n",
       "CREDITO_POR_COMPRA_LISTA_PRESENTES              1.788738\n",
       "DEBITO_DEVOLUCAO_COMPRA_FEITA_COM_VC            0.263985\n",
       "CREDITO_PREMIACAO_FUNCIONARIO                   0.183265\n",
       "CREDITO_PREMIACAO_GERENCIAL_CLIENTES            0.161704\n",
       "AJUSTE_CONTABIL_OU_LANCAM_INCORRETO             0.097023\n",
       "CREDITO_GERADO_DEVOLUCAO_COMPRAS                0.041018\n",
       "TRANSFERENCIA_ENTRE_CLIENTES_BEMOL              0.020772\n",
       "CREDITO_CONVERSAO_CRED_GERADO_DEVOLUCAO         0.013673\n",
       "TRANSFERENCIA_ENTRE_CLIENTES_BEMOL_WHATSAPP     0.008677\n",
       "DEBITO_DEVOLUCAO_COMPRA_DE_VC                   0.006573\n",
       "DEBITO_POR_ESTORNO_TROCO                        0.004207\n",
       "DEBITO_ESTORNO_LISTA_PRESENTES                  0.004207\n",
       "AJUSTE_LANCAMENTO_INCORRETO                     0.003944\n",
       "DEBITO_ESTORNO_TROCO                            0.000263\n",
       "DEBITO_DUPLICIDADE_LANCAMENTO                   0.000263\n",
       "DOACAO                                          0.000263\n",
       "Name: TIPO_TRANSACAO_VC, dtype: float64"
      ]
     },
     "execution_count": 10,
     "metadata": {},
     "output_type": "execute_result"
    }
   ],
   "source": [
    "type(credito2[\"TIPO_TRANSACAO_VC\"])\n",
    "p = credito2[\"TIPO_TRANSACAO_VC\" ].value_counts()\n",
    "b = (p/len(credito2))*100\n",
    "b"
   ]
  },
  {
   "cell_type": "code",
   "execution_count": 11,
   "metadata": {},
   "outputs": [
    {
     "data": {
      "text/html": [
       "<div>\n",
       "<style scoped>\n",
       "    .dataframe tbody tr th:only-of-type {\n",
       "        vertical-align: middle;\n",
       "    }\n",
       "\n",
       "    .dataframe tbody tr th {\n",
       "        vertical-align: top;\n",
       "    }\n",
       "\n",
       "    .dataframe thead th {\n",
       "        text-align: right;\n",
       "    }\n",
       "</style>\n",
       "<table border=\"1\" class=\"dataframe\">\n",
       "  <thead>\n",
       "    <tr style=\"text-align: right;\">\n",
       "      <th></th>\n",
       "      <th>CLIENTE</th>\n",
       "      <th>DEBITO_OU_CREDITO</th>\n",
       "      <th>TIPO_TRANSACAO_VC</th>\n",
       "      <th>ID_LISTA_PRESENTES</th>\n",
       "      <th>PEDIDO_BOL</th>\n",
       "      <th>VALOR_MOVIMENTADO</th>\n",
       "      <th>SALDO</th>\n",
       "      <th>MOEDA</th>\n",
       "      <th>DATA_DA_MOVIMENTACAO</th>\n",
       "      <th>FATURA</th>\n",
       "      <th>DATA_CRIACAO</th>\n",
       "      <th>LOJA</th>\n",
       "      <th>ANO</th>\n",
       "      <th>MES</th>\n",
       "    </tr>\n",
       "  </thead>\n",
       "  <tbody>\n",
       "    <tr>\n",
       "      <th>0</th>\n",
       "      <td>3059785</td>\n",
       "      <td>CREDITO</td>\n",
       "      <td>CREDITO_POR_TROCO</td>\n",
       "      <td>0</td>\n",
       "      <td>0</td>\n",
       "      <td>0.37</td>\n",
       "      <td>0.37</td>\n",
       "      <td>BRL</td>\n",
       "      <td>2019-11-03</td>\n",
       "      <td>157999405.0</td>\n",
       "      <td>2019-11-03</td>\n",
       "      <td>118.0</td>\n",
       "      <td>2019</td>\n",
       "      <td>11</td>\n",
       "    </tr>\n",
       "    <tr>\n",
       "      <th>1</th>\n",
       "      <td>197026</td>\n",
       "      <td>CREDITO</td>\n",
       "      <td>CREDITO_POR_TROCO</td>\n",
       "      <td>0</td>\n",
       "      <td>0</td>\n",
       "      <td>0.39</td>\n",
       "      <td>3.20</td>\n",
       "      <td>BRL</td>\n",
       "      <td>2017-11-20</td>\n",
       "      <td>144328614.0</td>\n",
       "      <td>2017-11-20</td>\n",
       "      <td>500.0</td>\n",
       "      <td>2017</td>\n",
       "      <td>11</td>\n",
       "    </tr>\n",
       "    <tr>\n",
       "      <th>2</th>\n",
       "      <td>2435219</td>\n",
       "      <td>CREDITO</td>\n",
       "      <td>CREDITO_POR_TROCO</td>\n",
       "      <td>0</td>\n",
       "      <td>0</td>\n",
       "      <td>1.15</td>\n",
       "      <td>1.15</td>\n",
       "      <td>BRL</td>\n",
       "      <td>2020-08-05</td>\n",
       "      <td>163994206.0</td>\n",
       "      <td>2020-08-05</td>\n",
       "      <td>106.0</td>\n",
       "      <td>2020</td>\n",
       "      <td>8</td>\n",
       "    </tr>\n",
       "    <tr>\n",
       "      <th>3</th>\n",
       "      <td>1736644</td>\n",
       "      <td>CREDITO</td>\n",
       "      <td>CREDITO_POR_TROCO</td>\n",
       "      <td>0</td>\n",
       "      <td>0</td>\n",
       "      <td>0.15</td>\n",
       "      <td>2.66</td>\n",
       "      <td>BRL</td>\n",
       "      <td>2017-08-20</td>\n",
       "      <td>142898316.0</td>\n",
       "      <td>2017-08-20</td>\n",
       "      <td>118.0</td>\n",
       "      <td>2017</td>\n",
       "      <td>8</td>\n",
       "    </tr>\n",
       "    <tr>\n",
       "      <th>4</th>\n",
       "      <td>2010537</td>\n",
       "      <td>DEBITO</td>\n",
       "      <td>DEBITO_PAGAMENTO_COM_VC</td>\n",
       "      <td>0</td>\n",
       "      <td>0</td>\n",
       "      <td>-0.50</td>\n",
       "      <td>0.00</td>\n",
       "      <td>BRL</td>\n",
       "      <td>2017-08-08</td>\n",
       "      <td>NaN</td>\n",
       "      <td>2017-08-08</td>\n",
       "      <td>401.0</td>\n",
       "      <td>2017</td>\n",
       "      <td>8</td>\n",
       "    </tr>\n",
       "    <tr>\n",
       "      <th>...</th>\n",
       "      <td>...</td>\n",
       "      <td>...</td>\n",
       "      <td>...</td>\n",
       "      <td>...</td>\n",
       "      <td>...</td>\n",
       "      <td>...</td>\n",
       "      <td>...</td>\n",
       "      <td>...</td>\n",
       "      <td>...</td>\n",
       "      <td>...</td>\n",
       "      <td>...</td>\n",
       "      <td>...</td>\n",
       "      <td>...</td>\n",
       "      <td>...</td>\n",
       "    </tr>\n",
       "    <tr>\n",
       "      <th>380319</th>\n",
       "      <td>1046303</td>\n",
       "      <td>CREDITO</td>\n",
       "      <td>CREDITO_POR_TROCO</td>\n",
       "      <td>0</td>\n",
       "      <td>0</td>\n",
       "      <td>0.90</td>\n",
       "      <td>0.90</td>\n",
       "      <td>BRL</td>\n",
       "      <td>2018-02-15</td>\n",
       "      <td>145954646.0</td>\n",
       "      <td>2018-02-15</td>\n",
       "      <td>202.0</td>\n",
       "      <td>2018</td>\n",
       "      <td>2</td>\n",
       "    </tr>\n",
       "    <tr>\n",
       "      <th>380320</th>\n",
       "      <td>155516</td>\n",
       "      <td>DEBITO</td>\n",
       "      <td>DEBITO_PAGAMENTO_COM_VC</td>\n",
       "      <td>0</td>\n",
       "      <td>0</td>\n",
       "      <td>-0.20</td>\n",
       "      <td>0.75</td>\n",
       "      <td>BRL</td>\n",
       "      <td>2018-12-06</td>\n",
       "      <td>NaN</td>\n",
       "      <td>2018-12-06</td>\n",
       "      <td>101.0</td>\n",
       "      <td>2018</td>\n",
       "      <td>12</td>\n",
       "    </tr>\n",
       "    <tr>\n",
       "      <th>380321</th>\n",
       "      <td>2087858</td>\n",
       "      <td>CREDITO</td>\n",
       "      <td>CREDITO_POR_TROCO</td>\n",
       "      <td>0</td>\n",
       "      <td>0</td>\n",
       "      <td>0.23</td>\n",
       "      <td>0.47</td>\n",
       "      <td>BRL</td>\n",
       "      <td>2018-11-27</td>\n",
       "      <td>151060807.0</td>\n",
       "      <td>2018-11-27</td>\n",
       "      <td>106.0</td>\n",
       "      <td>2018</td>\n",
       "      <td>11</td>\n",
       "    </tr>\n",
       "    <tr>\n",
       "      <th>380322</th>\n",
       "      <td>2133650</td>\n",
       "      <td>CREDITO</td>\n",
       "      <td>CREDITO_GERADO_POR_COMPRA_DE_VC</td>\n",
       "      <td>0</td>\n",
       "      <td>0</td>\n",
       "      <td>85.00</td>\n",
       "      <td>88.35</td>\n",
       "      <td>BRL</td>\n",
       "      <td>2020-10-03</td>\n",
       "      <td>165519100.0</td>\n",
       "      <td>2020-10-03</td>\n",
       "      <td>520.0</td>\n",
       "      <td>2020</td>\n",
       "      <td>10</td>\n",
       "    </tr>\n",
       "    <tr>\n",
       "      <th>380323</th>\n",
       "      <td>1452993</td>\n",
       "      <td>CREDITO</td>\n",
       "      <td>CREDITO_POR_TROCO</td>\n",
       "      <td>0</td>\n",
       "      <td>0</td>\n",
       "      <td>0.89</td>\n",
       "      <td>3.95</td>\n",
       "      <td>BRL</td>\n",
       "      <td>2018-10-17</td>\n",
       "      <td>150259102.0</td>\n",
       "      <td>2018-10-17</td>\n",
       "      <td>201.0</td>\n",
       "      <td>2018</td>\n",
       "      <td>10</td>\n",
       "    </tr>\n",
       "  </tbody>\n",
       "</table>\n",
       "<p>380324 rows × 14 columns</p>\n",
       "</div>"
      ],
      "text/plain": [
       "        CLIENTE DEBITO_OU_CREDITO                TIPO_TRANSACAO_VC  \\\n",
       "0       3059785           CREDITO                CREDITO_POR_TROCO   \n",
       "1        197026           CREDITO                CREDITO_POR_TROCO   \n",
       "2       2435219           CREDITO                CREDITO_POR_TROCO   \n",
       "3       1736644           CREDITO                CREDITO_POR_TROCO   \n",
       "4       2010537            DEBITO          DEBITO_PAGAMENTO_COM_VC   \n",
       "...         ...               ...                              ...   \n",
       "380319  1046303           CREDITO                CREDITO_POR_TROCO   \n",
       "380320   155516            DEBITO          DEBITO_PAGAMENTO_COM_VC   \n",
       "380321  2087858           CREDITO                CREDITO_POR_TROCO   \n",
       "380322  2133650           CREDITO  CREDITO_GERADO_POR_COMPRA_DE_VC   \n",
       "380323  1452993           CREDITO                CREDITO_POR_TROCO   \n",
       "\n",
       "        ID_LISTA_PRESENTES  PEDIDO_BOL  VALOR_MOVIMENTADO  SALDO MOEDA  \\\n",
       "0                        0           0               0.37   0.37   BRL   \n",
       "1                        0           0               0.39   3.20   BRL   \n",
       "2                        0           0               1.15   1.15   BRL   \n",
       "3                        0           0               0.15   2.66   BRL   \n",
       "4                        0           0              -0.50   0.00   BRL   \n",
       "...                    ...         ...                ...    ...   ...   \n",
       "380319                   0           0               0.90   0.90   BRL   \n",
       "380320                   0           0              -0.20   0.75   BRL   \n",
       "380321                   0           0               0.23   0.47   BRL   \n",
       "380322                   0           0              85.00  88.35   BRL   \n",
       "380323                   0           0               0.89   3.95   BRL   \n",
       "\n",
       "       DATA_DA_MOVIMENTACAO       FATURA DATA_CRIACAO   LOJA   ANO  MES  \n",
       "0                2019-11-03  157999405.0   2019-11-03  118.0  2019   11  \n",
       "1                2017-11-20  144328614.0   2017-11-20  500.0  2017   11  \n",
       "2                2020-08-05  163994206.0   2020-08-05  106.0  2020    8  \n",
       "3                2017-08-20  142898316.0   2017-08-20  118.0  2017    8  \n",
       "4                2017-08-08          NaN   2017-08-08  401.0  2017    8  \n",
       "...                     ...          ...          ...    ...   ...  ...  \n",
       "380319           2018-02-15  145954646.0   2018-02-15  202.0  2018    2  \n",
       "380320           2018-12-06          NaN   2018-12-06  101.0  2018   12  \n",
       "380321           2018-11-27  151060807.0   2018-11-27  106.0  2018   11  \n",
       "380322           2020-10-03  165519100.0   2020-10-03  520.0  2020   10  \n",
       "380323           2018-10-17  150259102.0   2018-10-17  201.0  2018   10  \n",
       "\n",
       "[380324 rows x 14 columns]"
      ]
     },
     "execution_count": 11,
     "metadata": {},
     "output_type": "execute_result"
    }
   ],
   "source": [
    "# Separar e criar a coluna DATA_CRIAÇAO por ano e mes\n",
    "credito2['DATA_DA_MOVIMENTACAO'] = pd.to_datetime(credito2['DATA_DA_MOVIMENTACAO'], \n",
    "                                                  format='%Y/%m/%d')\n",
    "credito2['ANO'] = credito2['DATA_DA_MOVIMENTACAO'].dt.year ## cria coluna por ano\n",
    "credito2['MES'] = credito2['DATA_DA_MOVIMENTACAO'].dt.month ## cria coluna por mes"
   ]
  },
  {
   "cell_type": "markdown",
   "metadata": {},
   "source": [
    "Se analisarmos os a coluna DEBITO_OU_CREDITO por ano, é possivel notar que com o passar do ano ocorreu uma queda consideravel no ano de 2018. A partir disso, observa-se que tem uma tendêcia de aumento nos anos seguintes."
   ]
  },
  {
   "cell_type": "code",
   "execution_count": 13,
   "metadata": {
    "scrolled": true
   },
   "outputs": [
    {
     "data": {
      "text/plain": [
       "<AxesSubplot:xlabel='ANO'>"
      ]
     },
     "execution_count": 13,
     "metadata": {},
     "output_type": "execute_result"
    },
    {
     "data": {
      "image/png": "[encoded data removed]",
      "text/plain": [
       "<Figure size 432x288 with 1 Axes>"
      ]
     },
     "metadata": {
      "needs_background": "light"
     },
     "output_type": "display_data"
    }
   ],
   "source": [
    "credito2.groupby(['ANO','DEBITO_OU_CREDITO'])['SALDO'].mean().unstack().plot()"
   ]
  },
  {
   "cell_type": "markdown",
   "metadata": {},
   "source": [
    "Nessa etapa é coletado os dados dos últimos 6 meses para ver como anda o comportamento."
   ]
  },
  {
   "cell_type": "code",
   "execution_count": 14,
   "metadata": {},
   "outputs": [
    {
     "data": {
      "text/html": [
       "<div>\n",
       "<style scoped>\n",
       "    .dataframe tbody tr th:only-of-type {\n",
       "        vertical-align: middle;\n",
       "    }\n",
       "\n",
       "    .dataframe tbody tr th {\n",
       "        vertical-align: top;\n",
       "    }\n",
       "\n",
       "    .dataframe thead th {\n",
       "        text-align: right;\n",
       "    }\n",
       "</style>\n",
       "<table border=\"1\" class=\"dataframe\">\n",
       "  <thead>\n",
       "    <tr style=\"text-align: right;\">\n",
       "      <th></th>\n",
       "      <th>CLIENTE</th>\n",
       "      <th>DEBITO_OU_CREDITO</th>\n",
       "      <th>TIPO_TRANSACAO_VC</th>\n",
       "      <th>ID_LISTA_PRESENTES</th>\n",
       "      <th>PEDIDO_BOL</th>\n",
       "      <th>VALOR_MOVIMENTADO</th>\n",
       "      <th>SALDO</th>\n",
       "      <th>MOEDA</th>\n",
       "      <th>DATA_DA_MOVIMENTACAO</th>\n",
       "      <th>FATURA</th>\n",
       "      <th>DATA_CRIACAO</th>\n",
       "      <th>LOJA</th>\n",
       "      <th>ANO</th>\n",
       "      <th>MES</th>\n",
       "    </tr>\n",
       "  </thead>\n",
       "  <tbody>\n",
       "    <tr>\n",
       "      <th>2</th>\n",
       "      <td>2435219</td>\n",
       "      <td>CREDITO</td>\n",
       "      <td>CREDITO_POR_TROCO</td>\n",
       "      <td>0</td>\n",
       "      <td>0</td>\n",
       "      <td>1.15</td>\n",
       "      <td>1.15</td>\n",
       "      <td>BRL</td>\n",
       "      <td>2020-08-05</td>\n",
       "      <td>163994206.0</td>\n",
       "      <td>2020-08-05</td>\n",
       "      <td>106.0</td>\n",
       "      <td>2020</td>\n",
       "      <td>8</td>\n",
       "    </tr>\n",
       "    <tr>\n",
       "      <th>6</th>\n",
       "      <td>1463581</td>\n",
       "      <td>DEBITO</td>\n",
       "      <td>DEBITO_AUTOMATICO_PAG_PRESTACOES</td>\n",
       "      <td>0</td>\n",
       "      <td>0</td>\n",
       "      <td>-2.06</td>\n",
       "      <td>0.00</td>\n",
       "      <td>BRL</td>\n",
       "      <td>2020-06-09</td>\n",
       "      <td>NaN</td>\n",
       "      <td>2020-06-09</td>\n",
       "      <td>100.0</td>\n",
       "      <td>2020</td>\n",
       "      <td>6</td>\n",
       "    </tr>\n",
       "    <tr>\n",
       "      <th>20</th>\n",
       "      <td>2045570</td>\n",
       "      <td>DEBITO</td>\n",
       "      <td>DEBITO_COMPRA_COM_VC</td>\n",
       "      <td>0</td>\n",
       "      <td>0</td>\n",
       "      <td>-1.02</td>\n",
       "      <td>0.02</td>\n",
       "      <td>BRL</td>\n",
       "      <td>2020-06-29</td>\n",
       "      <td>NaN</td>\n",
       "      <td>2020-06-29</td>\n",
       "      <td>120.0</td>\n",
       "      <td>2020</td>\n",
       "      <td>6</td>\n",
       "    </tr>\n",
       "    <tr>\n",
       "      <th>30</th>\n",
       "      <td>2584422</td>\n",
       "      <td>DEBITO</td>\n",
       "      <td>DEBITO_AUTOMATICO_PAG_PRESTACOES</td>\n",
       "      <td>0</td>\n",
       "      <td>0</td>\n",
       "      <td>-0.15</td>\n",
       "      <td>0.00</td>\n",
       "      <td>BRL</td>\n",
       "      <td>2020-09-17</td>\n",
       "      <td>NaN</td>\n",
       "      <td>2020-09-17</td>\n",
       "      <td>100.0</td>\n",
       "      <td>2020</td>\n",
       "      <td>9</td>\n",
       "    </tr>\n",
       "    <tr>\n",
       "      <th>31</th>\n",
       "      <td>1029149</td>\n",
       "      <td>DEBITO</td>\n",
       "      <td>DEBITO_AUTOMATICO_PAG_PRESTACOES</td>\n",
       "      <td>0</td>\n",
       "      <td>0</td>\n",
       "      <td>-0.72</td>\n",
       "      <td>0.00</td>\n",
       "      <td>BRL</td>\n",
       "      <td>2020-06-22</td>\n",
       "      <td>NaN</td>\n",
       "      <td>2020-06-22</td>\n",
       "      <td>100.0</td>\n",
       "      <td>2020</td>\n",
       "      <td>6</td>\n",
       "    </tr>\n",
       "    <tr>\n",
       "      <th>...</th>\n",
       "      <td>...</td>\n",
       "      <td>...</td>\n",
       "      <td>...</td>\n",
       "      <td>...</td>\n",
       "      <td>...</td>\n",
       "      <td>...</td>\n",
       "      <td>...</td>\n",
       "      <td>...</td>\n",
       "      <td>...</td>\n",
       "      <td>...</td>\n",
       "      <td>...</td>\n",
       "      <td>...</td>\n",
       "      <td>...</td>\n",
       "      <td>...</td>\n",
       "    </tr>\n",
       "    <tr>\n",
       "      <th>380264</th>\n",
       "      <td>2149641</td>\n",
       "      <td>CREDITO</td>\n",
       "      <td>CREDITO_POR_TROCO</td>\n",
       "      <td>0</td>\n",
       "      <td>0</td>\n",
       "      <td>0.50</td>\n",
       "      <td>1.52</td>\n",
       "      <td>BRL</td>\n",
       "      <td>2020-06-09</td>\n",
       "      <td>162607558.0</td>\n",
       "      <td>2020-06-09</td>\n",
       "      <td>118.0</td>\n",
       "      <td>2020</td>\n",
       "      <td>6</td>\n",
       "    </tr>\n",
       "    <tr>\n",
       "      <th>380272</th>\n",
       "      <td>2320696</td>\n",
       "      <td>DEBITO</td>\n",
       "      <td>DEBITO_AUTOMATICO_PAG_PRESTACOES</td>\n",
       "      <td>0</td>\n",
       "      <td>0</td>\n",
       "      <td>-59.00</td>\n",
       "      <td>60.76</td>\n",
       "      <td>BRL</td>\n",
       "      <td>2020-10-04</td>\n",
       "      <td>NaN</td>\n",
       "      <td>2020-10-04</td>\n",
       "      <td>100.0</td>\n",
       "      <td>2020</td>\n",
       "      <td>10</td>\n",
       "    </tr>\n",
       "    <tr>\n",
       "      <th>380296</th>\n",
       "      <td>1132474</td>\n",
       "      <td>CREDITO</td>\n",
       "      <td>CREDITO_POR_TROCO</td>\n",
       "      <td>0</td>\n",
       "      <td>0</td>\n",
       "      <td>0.59</td>\n",
       "      <td>1.08</td>\n",
       "      <td>BRL</td>\n",
       "      <td>2020-10-15</td>\n",
       "      <td>165896093.0</td>\n",
       "      <td>2020-10-15</td>\n",
       "      <td>103.0</td>\n",
       "      <td>2020</td>\n",
       "      <td>10</td>\n",
       "    </tr>\n",
       "    <tr>\n",
       "      <th>380306</th>\n",
       "      <td>2609691</td>\n",
       "      <td>CREDITO</td>\n",
       "      <td>CREDITO_POR_TROCO</td>\n",
       "      <td>0</td>\n",
       "      <td>0</td>\n",
       "      <td>0.13</td>\n",
       "      <td>0.13</td>\n",
       "      <td>BRL</td>\n",
       "      <td>2020-09-12</td>\n",
       "      <td>164993989.0</td>\n",
       "      <td>2020-09-12</td>\n",
       "      <td>115.0</td>\n",
       "      <td>2020</td>\n",
       "      <td>9</td>\n",
       "    </tr>\n",
       "    <tr>\n",
       "      <th>380322</th>\n",
       "      <td>2133650</td>\n",
       "      <td>CREDITO</td>\n",
       "      <td>CREDITO_GERADO_POR_COMPRA_DE_VC</td>\n",
       "      <td>0</td>\n",
       "      <td>0</td>\n",
       "      <td>85.00</td>\n",
       "      <td>88.35</td>\n",
       "      <td>BRL</td>\n",
       "      <td>2020-10-03</td>\n",
       "      <td>165519100.0</td>\n",
       "      <td>2020-10-03</td>\n",
       "      <td>520.0</td>\n",
       "      <td>2020</td>\n",
       "      <td>10</td>\n",
       "    </tr>\n",
       "  </tbody>\n",
       "</table>\n",
       "<p>53845 rows × 14 columns</p>\n",
       "</div>"
      ],
      "text/plain": [
       "        CLIENTE DEBITO_OU_CREDITO                 TIPO_TRANSACAO_VC  \\\n",
       "2       2435219           CREDITO                 CREDITO_POR_TROCO   \n",
       "6       1463581            DEBITO  DEBITO_AUTOMATICO_PAG_PRESTACOES   \n",
       "20      2045570            DEBITO              DEBITO_COMPRA_COM_VC   \n",
       "30      2584422            DEBITO  DEBITO_AUTOMATICO_PAG_PRESTACOES   \n",
       "31      1029149            DEBITO  DEBITO_AUTOMATICO_PAG_PRESTACOES   \n",
       "...         ...               ...                               ...   \n",
       "380264  2149641           CREDITO                 CREDITO_POR_TROCO   \n",
       "380272  2320696            DEBITO  DEBITO_AUTOMATICO_PAG_PRESTACOES   \n",
       "380296  1132474           CREDITO                 CREDITO_POR_TROCO   \n",
       "380306  2609691           CREDITO                 CREDITO_POR_TROCO   \n",
       "380322  2133650           CREDITO   CREDITO_GERADO_POR_COMPRA_DE_VC   \n",
       "\n",
       "        ID_LISTA_PRESENTES  PEDIDO_BOL  VALOR_MOVIMENTADO  SALDO MOEDA  \\\n",
       "2                        0           0               1.15   1.15   BRL   \n",
       "6                        0           0              -2.06   0.00   BRL   \n",
       "20                       0           0              -1.02   0.02   BRL   \n",
       "30                       0           0              -0.15   0.00   BRL   \n",
       "31                       0           0              -0.72   0.00   BRL   \n",
       "...                    ...         ...                ...    ...   ...   \n",
       "380264                   0           0               0.50   1.52   BRL   \n",
       "380272                   0           0             -59.00  60.76   BRL   \n",
       "380296                   0           0               0.59   1.08   BRL   \n",
       "380306                   0           0               0.13   0.13   BRL   \n",
       "380322                   0           0              85.00  88.35   BRL   \n",
       "\n",
       "       DATA_DA_MOVIMENTACAO       FATURA DATA_CRIACAO   LOJA   ANO  MES  \n",
       "2                2020-08-05  163994206.0   2020-08-05  106.0  2020    8  \n",
       "6                2020-06-09          NaN   2020-06-09  100.0  2020    6  \n",
       "20               2020-06-29          NaN   2020-06-29  120.0  2020    6  \n",
       "30               2020-09-17          NaN   2020-09-17  100.0  2020    9  \n",
       "31               2020-06-22          NaN   2020-06-22  100.0  2020    6  \n",
       "...                     ...          ...          ...    ...   ...  ...  \n",
       "380264           2020-06-09  162607558.0   2020-06-09  118.0  2020    6  \n",
       "380272           2020-10-04          NaN   2020-10-04  100.0  2020   10  \n",
       "380296           2020-10-15  165896093.0   2020-10-15  103.0  2020   10  \n",
       "380306           2020-09-12  164993989.0   2020-09-12  115.0  2020    9  \n",
       "380322           2020-10-03  165519100.0   2020-10-03  520.0  2020   10  \n",
       "\n",
       "[53845 rows x 14 columns]"
      ]
     },
     "execution_count": 14,
     "metadata": {},
     "output_type": "execute_result"
    }
   ],
   "source": [
    "seis_m = credito2[(credito2['DATA_CRIACAO'] > '2020-05-19') & \n",
    "                  (credito2['DATA_CRIACAO'] < '2020-10-18')]\n",
    "seis_m"
   ]
  },
  {
   "cell_type": "markdown",
   "metadata": {},
   "source": [
    "A análise será feita atraves das médias do saldo dos clientes por debito e credito. Como é visto o gráfico abaixo nos ultimos 6 meses teve um crescimento de saldo dos clientes, podendo ser possivel a compra de mais vale crédito."
   ]
  },
  {
   "cell_type": "code",
   "execution_count": 15,
   "metadata": {
    "scrolled": true
   },
   "outputs": [
    {
     "data": {
      "text/plain": [
       "<AxesSubplot:xlabel='MES'>"
      ]
     },
     "execution_count": 15,
     "metadata": {},
     "output_type": "execute_result"
    },
    {
     "data": {
      "image/png": "[encoded data removed]",
      "text/plain": [
       "<Figure size 432x288 with 1 Axes>"
      ]
     },
     "metadata": {
      "needs_background": "light"
     },
     "output_type": "display_data"
    }
   ],
   "source": [
    "seis_m.groupby(['MES','DEBITO_OU_CREDITO'])['SALDO'].mean().unstack().plot()\n",
    "plt.ylabel(\"Saldo\") #Atribuir nome eixo y\n",
    "plt.title('Media de saldo nos ultimos 6 meses')  #Titulo grafico"
   ]
  },
  {
   "cell_type": "markdown",
   "metadata": {},
   "source": [
    "A proxima analise a ser feita é tentar obter uma previsão dos saldo dos clientes. O gráfico abaixo informa uma serie das médias dos ultimos anos por meses, é notório que grande parte dos anos não passava da média 100."
   ]
  },
  {
   "cell_type": "code",
   "execution_count": 39,
   "metadata": {},
   "outputs": [
    {
     "data": {
      "text/plain": [
       "Text(0.5, 1.0, 'Série da média do saldo nos ultimos anos')"
      ]
     },
     "execution_count": 39,
     "metadata": {},
     "output_type": "execute_result"
    },
    {
     "data": {
      "image/png": "[encoded data removed]",
      "text/plain": [
       "<Figure size 432x288 with 1 Axes>"
      ]
     },
     "metadata": {
      "needs_background": "light"
     },
     "output_type": "display_data"
    }
   ],
   "source": [
    "credito2.groupby(['ANO','MES'])['SALDO'].mean().plot()\n",
    "plt.hlines(y=100, xmin=-1, xmax=57, color='orange')\n",
    "#credito2.groupby(['ANO','MES'])['SALDO'].mean()   ##resultado das médias \n",
    "\n",
    "plt.ylabel(\"Saldo\") #Atribuir nome eixo y\n",
    "plt.title('Série da média do saldo nos ultimos anos')  #Titulo grafico"
   ]
  },
  {
   "cell_type": "markdown",
   "metadata": {},
   "source": [
    "Para realizar a previsão será feita um filtro no ano em um perio de 02/01/2016-20020/05/18. Deixando uns últimos 6 meses para prever."
   ]
  },
  {
   "cell_type": "code",
   "execution_count": 112,
   "metadata": {},
   "outputs": [
    {
     "data": {
      "text/plain": [
       "ANO    767675305\n",
       "MES      2524760\n",
       "dtype: int64"
      ]
     },
     "execution_count": 112,
     "metadata": {},
     "output_type": "execute_result"
    }
   ],
   "source": [
    "type(credito2[[\"ANO\",'MES']])\n",
    "\n",
    "credito2[[\"ANO\",'MES']].sum()"
   ]
  },
  {
   "cell_type": "markdown",
   "metadata": {},
   "source": [
    "O método da média movel foi aplicado ao saldo dos clientes para prever o comportamento nesses periodo."
   ]
  },
  {
   "cell_type": "code",
   "execution_count": 127,
   "metadata": {
    "scrolled": true
   },
   "outputs": [
    {
     "data": {
      "image/png": "[encoded data removed]",
      "text/plain": [
       "<Figure size 432x288 with 1 Axes>"
      ]
     },
     "metadata": {
      "needs_background": "light"
     },
     "output_type": "display_data"
    }
   ],
   "source": [
    "pred = credito2[(credito2['DATA_CRIACAO'] > '2016-01-02') & \n",
    "                  (credito2['DATA_CRIACAO'] < '2019-05-18')]\n",
    "m = pred.groupby(['ANO','MES'])['SALDO'].mean()\n",
    "mm = pred.groupby(['ANO','MES'])['SALDO'].rolling(600).mean().plot(rot=40)\n"
   ]
  },
  {
   "cell_type": "markdown",
   "metadata": {},
   "source": [
    "O gráfico abaixo mostra as médias do saldo dos clientes no periodo de 2016 a 2019."
   ]
  },
  {
   "cell_type": "code",
   "execution_count": 126,
   "metadata": {},
   "outputs": [
    {
     "data": {
      "text/plain": [
       "<AxesSubplot:xlabel='ANO,MES'>"
      ]
     },
     "execution_count": 126,
     "metadata": {},
     "output_type": "execute_result"
    },
    {
     "data": {
      "image/png": "[encoded data removed]",
      "text/plain": [
       "<Figure size 432x288 with 1 Axes>"
      ]
     },
     "metadata": {
      "needs_background": "light"
     },
     "output_type": "display_data"
    }
   ],
   "source": [
    "m.plot(rot=40)"
   ]
  },
  {
   "cell_type": "code",
   "execution_count": null,
   "metadata": {},
   "outputs": [],
   "source": [
    "Se fizer uma comparação do gráfico das médias móveis e da médias, conclui-se que tem uma estabalização no saldos dos clientes."
   ]
  }
 ],
 "metadata": {
  "kernelspec": {
   "display_name": "Python 3",
   "language": "python",
   "name": "python3"
  },
  "language_info": {
   "codemirror_mode": {
    "name": "ipython",
    "version": 3
   },
   "file_extension": ".py",
   "mimetype": "text/x-python",
   "name": "python",
   "nbconvert_exporter": "python",
   "pygments_lexer": "ipython3",
   "version": "3.8.5"
  }
 },
 "nbformat": 4,
 "nbformat_minor": 4
}
